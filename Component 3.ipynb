{
 "cells": [
  {
   "cell_type": "code",
   "execution_count": 1,
   "metadata": {
    "collapsed": true
   },
   "outputs": [],
   "source": [
    "import pandas as pd\n",
    "import bqplot\n",
    "import us\n",
    "import numpy as np\n",
    "import matplotlib.pyplot as plt\n",
    "import csv\n",
    "import math\n",
    "import cartopy\n",
    "import ipywidgets\n",
    "import matplotlib.cm as cm\n",
    "%matplotlib inline"
   ]
  },
  {
   "cell_type": "code",
   "execution_count": 2,
   "metadata": {
    "collapsed": true
   },
   "outputs": [],
   "source": [
    "# Import code (instructor provided)\n",
    "from bqplot import DateScale, LinearScale, Axis, Lines, Scatter, Bars, Hist, Figure\n",
    "from bqplot.interacts import (\n",
    "    FastIntervalSelector, IndexSelector, BrushIntervalSelector,\n",
    "    BrushSelector, MultiSelector, LassoSelector, PanZoom, HandDraw\n",
    ")\n",
    "from traitlets import link\n",
    "from bqplot import (\n",
    "    Figure, Map, Mercator, Orthographic, ColorScale, ColorAxis,\n",
    "    AlbersUSA, topo_load, Tooltip\n",
    ")\n",
    "from ipywidgets import ToggleButtons, VBox, HTML, Dropdown, HBox"
   ]
  },
  {
   "cell_type": "code",
   "execution_count": 3,
   "metadata": {
    "collapsed": true
   },
   "outputs": [],
   "source": [
    "# Start code (instructor provided)\n",
    "names = [\"date\", \"city\", \"state\", \"country\", \"shape\", \"duration_seconds\",\n",
    "         \"duration_reported\", \"description\", \"report_date\", \"latitude\",\n",
    "         \"longitude\"]\n",
    "fn = \"/srv/nbgrader/data/ufo-scrubbed-geocoded-time-standardized.csv\"\n",
    "ufo = pd.read_csv(fn, names = names, parse_dates = [\"date\", \"report_date\"])\n",
    "\n",
    "abbr_to_fits = us.states.mapping('abbr', 'fips')\n",
    "ufo[\"fips\"] = ufo[\"state\"].apply(lambda a: int(abbr_to_fits.get(str(a).upper(), -1)))\n",
    "fips_count = ufo.groupby(\"fips\")[\"duration_seconds\"].count()"
   ]
  },
  {
   "cell_type": "markdown",
   "metadata": {},
   "source": [
    "## The following are codes for plotting the total number of sightings/duration_seconds in whichever state is highlighted with a function of year"
   ]
  },
  {
   "cell_type": "code",
   "execution_count": 4,
   "metadata": {},
   "outputs": [
    {
     "name": "stderr",
     "output_type": "stream",
     "text": [
      "/opt/conda/lib/python3.6/site-packages/ipykernel_launcher.py:3: SettingWithCopyWarning: \n",
      "A value is trying to be set on a copy of a slice from a DataFrame.\n",
      "Try using .loc[row_indexer,col_indexer] = value instead\n",
      "\n",
      "See the caveats in the documentation: http://pandas.pydata.org/pandas-docs/stable/indexing.html#indexing-view-versus-copy\n",
      "  This is separate from the ipykernel package so we can avoid doing imports until\n"
     ]
    },
    {
     "data": {
      "text/html": [
       "<div>\n",
       "<style scoped>\n",
       "    .dataframe tbody tr th:only-of-type {\n",
       "        vertical-align: middle;\n",
       "    }\n",
       "\n",
       "    .dataframe tbody tr th {\n",
       "        vertical-align: top;\n",
       "    }\n",
       "\n",
       "    .dataframe thead th {\n",
       "        text-align: right;\n",
       "    }\n",
       "</style>\n",
       "<table border=\"1\" class=\"dataframe\">\n",
       "  <thead>\n",
       "    <tr style=\"text-align: right;\">\n",
       "      <th></th>\n",
       "      <th></th>\n",
       "      <th>duration_seconds</th>\n",
       "      <th>total_sightings</th>\n",
       "    </tr>\n",
       "    <tr>\n",
       "      <th>fips</th>\n",
       "      <th>year</th>\n",
       "      <th></th>\n",
       "      <th></th>\n",
       "    </tr>\n",
       "  </thead>\n",
       "  <tbody>\n",
       "    <tr>\n",
       "      <th rowspan=\"5\" valign=\"top\">-1</th>\n",
       "      <th>1906</th>\n",
       "      <td>10800.0</td>\n",
       "      <td>1</td>\n",
       "    </tr>\n",
       "    <tr>\n",
       "      <th>1916</th>\n",
       "      <td>60.0</td>\n",
       "      <td>1</td>\n",
       "    </tr>\n",
       "    <tr>\n",
       "      <th>1936</th>\n",
       "      <td>1200.0</td>\n",
       "      <td>1</td>\n",
       "    </tr>\n",
       "    <tr>\n",
       "      <th>1943</th>\n",
       "      <td>1510.0</td>\n",
       "      <td>4</td>\n",
       "    </tr>\n",
       "    <tr>\n",
       "      <th>1944</th>\n",
       "      <td>1380.0</td>\n",
       "      <td>3</td>\n",
       "    </tr>\n",
       "  </tbody>\n",
       "</table>\n",
       "</div>"
      ],
      "text/plain": [
       "           duration_seconds  total_sightings\n",
       "fips year                                   \n",
       "-1   1906           10800.0                1\n",
       "     1916              60.0                1\n",
       "     1936            1200.0                1\n",
       "     1943            1510.0                4\n",
       "     1944            1380.0                3"
      ]
     },
     "execution_count": 4,
     "metadata": {},
     "output_type": "execute_result"
    }
   ],
   "source": [
    "#[code for plot] Get the intended columns and extract year from the date column\n",
    "basic_info = ufo[['state','date','duration_seconds']]\n",
    "basic_info['year']=pd.DatetimeIndex(basic_info['date']).year\n",
    "basic_data = basic_info[['state','year','duration_seconds']]\n",
    "\n",
    "#[code for plot] Transform the state to fips\n",
    "abbr_to_fits = us.states.mapping('abbr', 'fips')\n",
    "basic_data[\"fips\"] = basic_data[\"state\"].apply(lambda a: int(abbr_to_fits.get(str(a).upper(), -1)))\n",
    "ppdata = basic_data[['fips','year','duration_seconds']]\n",
    "\n",
    "#[code for plot] Use the groupby function for fips\n",
    "duration_data = ppdata.groupby(['fips','year']).sum()\n",
    "sightings_data = ppdata.groupby(['fips','year']).count()\n",
    "plotdata = duration_data\n",
    "plotdata['total_sightings']=sightings_data['duration_seconds']\n",
    "\n",
    "#[code for plot] Quickview of the data for plotting\n",
    "plotdata.head(5)"
   ]
  },
  {
   "cell_type": "markdown",
   "metadata": {},
   "source": [
    "## Now we define a function for plotting interval plot of 'duration_seconds'"
   ]
  },
  {
   "cell_type": "code",
   "execution_count": 5,
   "metadata": {
    "collapsed": true
   },
   "outputs": [],
   "source": [
    "def durationplot(fips):\n",
    "## First we define a Figure (adapted by instructor's code)\n",
    "    testdata=plotdata.loc[fips]\n",
    "    dt_x_fast = LinearScale()\n",
    "    lin_y = LinearScale()\n",
    "\n",
    "    dates_actual = testdata.index.values\n",
    "    prices = testdata.duration_seconds\n",
    "\n",
    "    x_ax = Axis(label='Year', scale=dt_x_fast)\n",
    "    x_ay = Axis(label='Duration_seconds', scale=lin_y, orientation='vertical')\n",
    "    lc = Lines(x=dates_actual, y=prices, scales={'x': dt_x_fast, 'y': lin_y}, colors=['orange'])\n",
    "    \n",
    "    return lc"
   ]
  },
  {
   "cell_type": "markdown",
   "metadata": {},
   "source": [
    "## Now we define a function for plotting interval plot of 'total_sightings'"
   ]
  },
  {
   "cell_type": "code",
   "execution_count": 6,
   "metadata": {
    "collapsed": true
   },
   "outputs": [],
   "source": [
    "def sightings(fips):\n",
    "## First we define a Figure (adapted by instructor's code)\n",
    "    testdata=plotdata.loc[fips]\n",
    "    dt_x_fast = LinearScale()\n",
    "    lin_y = LinearScale()\n",
    "\n",
    "    dates_actual = testdata.index.values\n",
    "    prices = testdata.total_sightings\n",
    "\n",
    "    x_ax = Axis(label='Year', scale=dt_x_fast)\n",
    "    x_ay = Axis(label='Total_sightings', scale=lin_y, orientation='vertical')\n",
    "    lc = Lines(x=dates_actual, y=prices, scales={'x': dt_x_fast, 'y': lin_y}, colors=['orange'])\n",
    "\n",
    "    return lc"
   ]
  },
  {
   "cell_type": "markdown",
   "metadata": {},
   "source": [
    "## Here is the code for preparing data to plot the map"
   ]
  },
  {
   "cell_type": "code",
   "execution_count": 7,
   "metadata": {
    "collapsed": true
   },
   "outputs": [],
   "source": [
    "#[code for map] (adapted by instructor's code)\n",
    "duration_seconds = ufo.groupby([\"fips\"])[\"duration_seconds\"].sum()\n",
    "total_sightings = ufo.groupby([\"fips\"])[\"report_date\"].count()\n",
    "#[code for map] (adapted by instructor's code)\n",
    "df = pd.DataFrame([duration_seconds, total_sightings])\n",
    "df.rename({'report_date': 'total_sightings'}, inplace=True)\n",
    "ufo_vals = df.transpose()\n",
    "# For the normalized part, the reason we load the data manually is to ensure others can execute our code successfully\n",
    "# We can load the csv file to normalize, but we found out that we can't upload the dataset on 'data-readonly' file, so we manually did this\n",
    "ufo_vals[\"Normalized total sightings\"] = [None , 4863300, 741894, 6931071, 2988248, 39250017, 5540545, 3576452, 952065, 681170, 20612439, 10310371, 1428557, 1683140, 12801539, 6633053, 3134693, 2907289, 4436974, 4681666, 1331479, 6016447, 6811779, 9928300, 5519952, 2988726, 6093000, 1042520, 1907116, 2940058, 1334795, 8944469, 2081015, 19745289, 10146788, 757952, 11614373, 3923561, 4093465, 12784227, 1056426, 4961119, 865454, 6651194, 27862596, 3051217, 624594, 8411808, 7288000, 1831102, 5778708, 585501, None]\n",
    "#[code for map] (adapted by instructor's code)\n",
    "states = cartopy.io.shapereader.natural_earth(resolution='110m', category='cultural',\n",
    "                                    name='admin_1_states_provinces_lakes_shp')\n",
    "reader =cartopy.io.shapereader.Reader(states)\n",
    "all_states = list(reader.records())"
   ]
  },
  {
   "cell_type": "markdown",
   "metadata": {
    "collapsed": true
   },
   "source": [
    "## Now we plot the map and interval plot, connect these two plots, with the dropdown function"
   ]
  },
  {
   "cell_type": "code",
   "execution_count": 8,
   "metadata": {
    "scrolled": true
   },
   "outputs": [
    {
     "data": {
      "application/vnd.jupyter.widget-view+json": {
       "model_id": "da7e5d0a8fe24b16abf7e1741e1fba9b",
       "version_major": 2,
       "version_minor": 0
      },
      "text/html": [
       "<p>Failed to display Jupyter Widget of type <code>interactive</code>.</p>\n",
       "<p>\n",
       "  If you're reading this message in the Jupyter Notebook or JupyterLab Notebook, it may mean\n",
       "  that the widgets JavaScript is still loading. If this message persists, it\n",
       "  likely means that the widgets JavaScript library is either not installed or\n",
       "  not enabled. See the <a href=\"https://ipywidgets.readthedocs.io/en/stable/user_install.html\">Jupyter\n",
       "  Widgets Documentation</a> for setup instructions.\n",
       "</p>\n",
       "<p>\n",
       "  If you're reading this message in another frontend (for example, a static\n",
       "  rendering on GitHub or <a href=\"https://nbviewer.jupyter.org/\">NBViewer</a>),\n",
       "  it may mean that your frontend doesn't currently support widgets.\n",
       "</p>\n"
      ],
      "text/plain": [
       "interactive(children=(Dropdown(description='field', options=('total_sightings', 'duration_seconds', 'Normalized total sightings'), value='total_sightings'), Output()), _dom_classes=('widget-interact',))"
      ]
     },
     "metadata": {},
     "output_type": "display_data"
    }
   ],
   "source": [
    "# Most of the code were adapted by instructor's code\n",
    "# First we use the field in ipywidgets to implement the dropdown function\n",
    "@ipywidgets.interact(field = ['total_sightings', 'duration_seconds','Normalized total sightings'] )\n",
    "def make_plot(field):\n",
    "    # Loop the data for map plot\n",
    "    for fips in ufo_vals:\n",
    "        n = np.log10(ufo_vals.loc[:, field])\n",
    "        norm = (ufo_vals['total_sightings'])/(ufo_vals['Normalized total sightings'])\n",
    "    # Design the tooltip\n",
    "    def_tt = Tooltip(fields=['name', 'color'], labels=['State', field],formats = [])    \n",
    "    # Design the map\n",
    "    map_styles = {'scales': {'projection': bqplot.AlbersUSA(),\n",
    "                      'color': bqplot.ColorScale(colors=[\"red\", \"blue\"])},\n",
    "              'color': n.to_dict(),\n",
    "                 'interactions':{'click': 'select', 'hover': 'tooltip'}}\n",
    "    states_map = bqplot.Map(map_data=bqplot.topo_load('map_data/USStatesMap.json'), tooltip=def_tt,\n",
    "        **map_styles) \n",
    "    # Design the interaction\n",
    "    states_map.interactions = {'click': 'select', 'hover': 'tooltip'}\n",
    "    # Design the figure\n",
    "    map_fig = bqplot.Figure(marks=[states_map], title='USA',fig_margin={'top':0,'bottom':20,'left':10,'right':10})\n",
    "# Now we design the plot for the 'total_sightings' dropdown    \n",
    "    if field == 'total_sightings':\n",
    "        # This is the default data\n",
    "        testdata=plotdata.loc[1]\n",
    "        # We tell the user to select a state and imply the meaning of the default(first) interval plot\n",
    "        print('Please select a state, the default state is Alabama.')\n",
    "        # First we define a Figure\n",
    "        dt_x_fast = LinearScale()\n",
    "        lin_y = LinearScale()\n",
    "        # Get the x and y values for plotting\n",
    "        dates_actual = testdata.index.values\n",
    "        prices = testdata.total_sightings\n",
    "        # Design the plot\n",
    "        x_ax = Axis(label='Year', scale=dt_x_fast)\n",
    "        x_ay = Axis(label='Total_sightings', scale=lin_y, orientation='vertical')\n",
    "        lc = Lines(x=dates_actual, y=prices, scales={'x': dt_x_fast, 'y': lin_y}, colors=['orange'])\n",
    "        # Next we define the type of selector we would like\n",
    "        intsel_fast = FastIntervalSelector(scale=dt_x_fast, marks=[lc])\n",
    "        # Now, we define a function that will be called when the FastIntervalSelector is interacted with\n",
    "        md = {}\n",
    "        def fast_interval_change_callback(change):\n",
    "            ind = pd.to_datetime(change.new)\n",
    "            ind = change.new\n",
    "            tot = testdata.loc[ind[0]:ind[1]][\"total_sightings\"].sum()\n",
    "            db_fast.value = 'The selected period is ' + str(change.new).split(' ')[0][1:5] + ' to '+ str(change.new).split(' ')[1][0:4] + ' total: ' + str(tot)\n",
    "        ## Now we connect the selectors to that function\n",
    "        intsel_fast.observe(fast_interval_change_callback, names=['selected'])\n",
    "        ## We use the HTML widget to see the value of what we are selecting\n",
    "        ## and modify it when an interaction is performed on the selector\n",
    "        db_fast = HTML()\n",
    "        db_fast.value = 'The selected period is ' + str(intsel_fast.selected)\n",
    "\n",
    "        fig_fast_intsel = Figure(marks=[lc], axes=[x_ax, x_ay], title='Total_sightings of selected state',\n",
    "                         interaction=intsel_fast,fig_margin={'top':0,'bottom':20,'left':50,'right':180}) \n",
    "        #This is where we assign the interaction to this particular Figure\n",
    "\n",
    "        # Define a callback function to plot the inverval, when the input after first click is NULL, \n",
    "        # we execute a nonsense line to avoid reporting NoneType error\n",
    "        def change_selected(event):\n",
    "            try: \n",
    "                lc.y=sightings(event.new[-1]).y\n",
    "                \n",
    "            except:\n",
    "                t=1+1\n",
    "        states_map.observe(change_selected, \"selected\")\n",
    "        # Connect the map and the interval plot using HBox and VBox\n",
    "        display(HBox([map_fig,VBox([db_fast, fig_fast_intsel])]))\n",
    "\n",
    "# Now we design the plot for the 'duration_seconds' dropdown       \n",
    "    elif field == 'duration_seconds':\n",
    "        # This is the default data\n",
    "        testdata=plotdata.loc[1]\n",
    "        # We tell the user to select a state and imply the meaning of the default(first) interval plot\n",
    "        print('Please select a state, the default state is Alabama.')\n",
    "        # First we define a Figure\n",
    "        dt_x_fast = LinearScale()\n",
    "        lin_y = LinearScale()\n",
    "        # Get the x and y values for plotting\n",
    "        dates_actual = testdata.index.values\n",
    "        prices = testdata.duration_seconds\n",
    "        # Design the plot\n",
    "        x_ax = Axis(label='Year', scale=dt_x_fast)\n",
    "        x_ay = Axis(label='Duration_seconds', scale=lin_y, orientation='vertical')\n",
    "        lc = Lines(x=dates_actual, y=prices, scales={'x': dt_x_fast, 'y': lin_y}, colors=['orange'])\n",
    "        # Next we define the type of selector we would like\n",
    "        intsel_fast = FastIntervalSelector(scale=dt_x_fast, marks=[lc])\n",
    "        # Now, we define a function that will be called when the FastIntervalSelector is interacted with\n",
    "        md = {}\n",
    "        def fast_interval_change_callback(change):\n",
    "            ind = pd.to_datetime(change.new)\n",
    "            ind = change.new\n",
    "            tot = testdata.loc[ind[0]:ind[1]][\"duration_seconds\"].sum()\n",
    "            db_fast.value = 'The selected period is ' + str(change.new).split(' ')[0][1:5] + ' to '+ str(change.new).split(' ')[1][0:4] + ' total: ' + str(tot)\n",
    "        ## Now we connect the selectors to that function\n",
    "        intsel_fast.observe(fast_interval_change_callback, names=['selected'])\n",
    "        ## We use the HTML widget to see the value of what we are selecting\n",
    "        ## and modify it when an interaction is performed on the selector\n",
    "        db_fast = HTML()\n",
    "        db_fast.value = 'The selected period is ' + str(intsel_fast.selected)\n",
    "\n",
    "        fig_fast_intsel = Figure(marks=[lc], axes=[x_ax, x_ay], title='Duration_Seconds of selected state',\n",
    "                         interaction=intsel_fast,fig_margin={'top':10,'bottom':20,'left':50,'right':180}) \n",
    "        #This is where we assign the interaction to this particular Figure\n",
    "\n",
    "        # Define a callback function to plot the inverval, when the input after first click is NULL, \n",
    "        # we execute a nonsense line to avoid reporting NoneType error\n",
    "        def change_selected(event):\n",
    "            try:\n",
    "                lc.y=durationplot(event.new[-1]).y\n",
    "            except:\n",
    "                t=1+1\n",
    "        states_map.observe(change_selected, \"selected\")\n",
    "        # Connect the map and the interval plot using HBox and VBox\n",
    "        display(HBox([map_fig,VBox([db_fast, fig_fast_intsel])]))\n",
    "\n",
    "# Now we design the plot for the 'Normalized total_sightings' dropdown           \n",
    "    elif field == 'Normalized total sightings':\n",
    "        # This is the default data\n",
    "        testdata=plotdata.loc[1]\n",
    "        # We tell the user to select a state and imply the meaning of the default(first) interval plot \n",
    "        print('Please select a state, the default state is Alabama.')\n",
    "        # First we define a Figure\n",
    "        dt_x_fast = LinearScale()\n",
    "        lin_y = LinearScale()\n",
    "        # Get the x and y values for plotting\n",
    "        dates_actual = testdata.index.values\n",
    "        prices = testdata.total_sightings\n",
    "        # Design the plot\n",
    "        x_ax = Axis(label='Year', scale=dt_x_fast)\n",
    "        x_ay = Axis(label='Total_sightings', scale=lin_y, orientation='vertical')\n",
    "        lc = Lines(x=dates_actual, y=prices, scales={'x': dt_x_fast, 'y': lin_y}, colors=['orange'])\n",
    "        # Next we define the type of selector we would like\n",
    "        intsel_fast = FastIntervalSelector(scale=dt_x_fast, marks=[lc])\n",
    "        # Now, we define a function that will be called when the FastIntervalSelector is interacted with\n",
    "        md = {}\n",
    "        def fast_interval_change_callback(change):\n",
    "            ind = pd.to_datetime(change.new)\n",
    "            ind = change.new\n",
    "            tot = testdata.loc[ind[0]:ind[1]][\"total_sightings\"].sum()\n",
    "            db_fast.value = 'The selected period is ' + str(change.new).split(' ')[0][1:5] + ' to '+ str(change.new).split(' ')[1][0:4] + ' total: ' + str(tot)            \n",
    "        ## Now we connect the selectors to that function\n",
    "        intsel_fast.observe(fast_interval_change_callback, names=['selected'])\n",
    "        ## We use the HTML widget to see the value of what we are selecting\n",
    "        ## and modify it when an interaction is performed on the selector\n",
    "        db_fast = HTML()\n",
    "        db_fast.value = 'The selected period is ' + str(intsel_fast.selected)\n",
    "        fig_fast_intsel = Figure(marks=[lc], axes=[x_ax, x_ay], title='Total_sightings of selected state',\n",
    "                         interaction=intsel_fast,fig_margin={'top':0,'bottom':20,'left':45,'right':180}) \n",
    "        # The above line is where we assign the interaction to this particular Figure\n",
    "\n",
    "        # Define a callback function to plot the inverval, when the input after first click is NULL, \n",
    "        # we execute a nonsense line to avoid reporting NoneType error\n",
    "        def change_selected(event):\n",
    "            try:\n",
    "                lc.y=sightings(event.new[-1]).y                \n",
    "            except:\n",
    "                t = 1+1\n",
    "        states_map.observe(change_selected, \"selected\")\n",
    "        # Connect the map and the interval plot using HBox and VBox\n",
    "        display(HBox([map_fig,VBox([db_fast, fig_fast_intsel])]))\n"
   ]
  },
  {
   "cell_type": "markdown",
   "metadata": {
    "collapsed": true
   },
   "source": [
    "## Why I took the approach I did\n",
    "\n",
    "To display the USA map, although it can be done by using cartophy package, we chose to use bqplot. It is because bqplot easier to bring interactivity to the map while interactivity in cartopy requires the help of JavaScript. \n",
    "\n",
    "For the normalized total sightings data, we divided the total sightings of each state by its population. We did it because some states have a bigger population, it has a higher chance to receive more sighting reports for those states. Thus, we normalized the data to get the ratio of total sightings to population. In order to get the population number, we originally loaded another csv file, grabbed the population number and appended it to the ufo_vals table. But after second thoughts, we are afraid that professor may not be able to read those data since it is stored in our computers. So, we decided to play safe and not to load those data from another file. Instead, we entered those number manually to make sure others can also read the data.\n",
    "\n",
    "For the interval selected function, we used the 'FastIntervalSelector' in bqplot and we designed a callback function named 'fast_interval_change_callback' to get the sum of y values in the selected time period, which is quite easy and quick to achieve that. \n",
    "\n",
    "When it comes to connection the map and the interval plot, we use the VBox and HBox in ipywidgets, and we define a callback function to make sure the connection is correct. \n",
    "\n",
    "## Strengths of my approach  \n",
    "- Multi-function and interactivity plot in one area. It is very suitable for presentation and operation.\n",
    "\n",
    "bqplot:\n",
    "- It is easy to modify the notebook with Python. The notebook and JupyterLab both give us the ability to have web application type interactivity with minimal trouble. Every element of the map is an interactive widget, which can be bound to an arbitrary call back function.\n",
    "- No JavaScript is required. So, it is easier to bring interactivity to the graphs.\n",
    "- It looks more beautiful than other packages. We can easily change the color of the map as we want.\n",
    "- Bringing more interactivity to data.\n",
    "- In bqplot almost everything is an object and we can be modify them live due to clever use of widgets.\n",
    "\n",
    "Normalized total sighting data:\n",
    "- People must be able to read the population data and see the corresponding map since the data is hard-coded.\n",
    "\n",
    "## Weaknesses of my approach  \n",
    "  \n",
    "- It seemed not very easy to export the plots out of the ipython/Jupyter environment with interactivity still goes well.\n",
    "- For the map click function, when we clicked the second state, the first state we clicked before will not disappear. So we have to reclick the first state in order to make it disappear. This may bring some of inconveniences when the user operate it.  \n",
    "Normalized total sighting data:\n",
    "- It wastes time to input all the numbers manually.\n",
    "- Higher human error rate when the data is long and complex.\n",
    "\n",
    "## What I wished I had been able to do (if anything)\n",
    "- In the current tooltip, we showed the name of the states and the corresponding sighting data. We wish that in the tooltip content, we could display the original number of total sightings, duration seconds instead of showing the logged number. \n",
    "- Since the hover function of tooltip is only available before we select the state, we also wish that we could make it available too even after we click on any states.\n",
    "- For the color of the map, we use red color to represent small numbers and blue to represent large numbers. However, it is hard to tell what the colors mean just by looking at the map. We wish that we could draw a colorbar below the map to indicate the color.\n",
    "- In the interval map of duration seconds, we wish that we could increase the distance between the tick values and the label of y-axis because currently there're some overlapping part between these two. They are kinda sticked together right now because the tick values are too long."
   ]
  },
  {
   "cell_type": "code",
   "execution_count": null,
   "metadata": {
    "collapsed": true
   },
   "outputs": [],
   "source": []
  }
 ],
 "metadata": {
  "kernelspec": {
   "display_name": "Python 3",
   "language": "python",
   "name": "python3"
  },
  "language_info": {
   "codemirror_mode": {
    "name": "ipython",
    "version": 3
   },
   "file_extension": ".py",
   "mimetype": "text/x-python",
   "name": "python",
   "nbconvert_exporter": "python",
   "pygments_lexer": "ipython3",
   "version": "3.6.3"
  }
 },
 "nbformat": 4,
 "nbformat_minor": 2
}
