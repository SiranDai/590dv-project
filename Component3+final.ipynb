{
 "cells": [
  {
   "cell_type": "code",
   "execution_count": 1,
   "metadata": {
    "collapsed": true
   },
   "outputs": [],
   "source": [
    "import pandas as pd\n",
    "import bqplot\n",
    "import us\n",
    "import numpy as np\n",
    "import matplotlib.pyplot as plt\n",
    "import csv\n",
    "import math\n",
    "import cartopy\n",
    "import ipywidgets\n",
    "import matplotlib.cm as cm\n",
    "%matplotlib inline"
   ]
  },
  {
   "cell_type": "code",
   "execution_count": 2,
   "metadata": {
    "collapsed": true
   },
   "outputs": [],
   "source": [
    "from bqplot import DateScale, LinearScale, Axis, Lines, Scatter, Bars, Hist, Figure\n",
    "from bqplot.interacts import (\n",
    "    FastIntervalSelector, IndexSelector, BrushIntervalSelector,\n",
    "    BrushSelector, MultiSelector, LassoSelector, PanZoom, HandDraw\n",
    ")\n",
    "from traitlets import link\n",
    "from bqplot import (\n",
    "    Figure, Map, Mercator, Orthographic, ColorScale, ColorAxis,\n",
    "    AlbersUSA, topo_load, Tooltip\n",
    ")\n",
    "from ipywidgets import ToggleButtons, VBox, HTML, Dropdown, HBox"
   ]
  },
  {
   "cell_type": "code",
   "execution_count": 3,
   "metadata": {
    "collapsed": true
   },
   "outputs": [],
   "source": [
    "#start code (instructor provided)\n",
    "names = [\"date\", \"city\", \"state\", \"country\", \"shape\", \"duration_seconds\",\n",
    "         \"duration_reported\", \"description\", \"report_date\", \"latitude\",\n",
    "         \"longitude\"]\n",
    "fn = \"/srv/nbgrader/data/ufo-scrubbed-geocoded-time-standardized.csv\"\n",
    "ufo = pd.read_csv(fn, names = names, parse_dates = [\"date\", \"report_date\"])\n",
    "\n",
    "abbr_to_fits = us.states.mapping('abbr', 'fips')\n",
    "ufo[\"fips\"] = ufo[\"state\"].apply(lambda a: int(abbr_to_fits.get(str(a).upper(), -1)))\n",
    "fips_count = ufo.groupby(\"fips\")[\"duration_seconds\"].count()"
   ]
  },
  {
   "cell_type": "code",
   "execution_count": null,
   "metadata": {
    "collapsed": true
   },
   "outputs": [],
   "source": []
  },
  {
   "cell_type": "markdown",
   "metadata": {},
   "source": [
    "## The following are codes for plotting the total number of sightings/duration_seconds in whichever state is highlighted with a function of year"
   ]
  },
  {
   "cell_type": "code",
   "execution_count": 4,
   "metadata": {},
   "outputs": [
    {
     "name": "stderr",
     "output_type": "stream",
     "text": [
      "/opt/conda/lib/python3.6/site-packages/ipykernel_launcher.py:3: SettingWithCopyWarning: \n",
      "A value is trying to be set on a copy of a slice from a DataFrame.\n",
      "Try using .loc[row_indexer,col_indexer] = value instead\n",
      "\n",
      "See the caveats in the documentation: http://pandas.pydata.org/pandas-docs/stable/indexing.html#indexing-view-versus-copy\n",
      "  This is separate from the ipykernel package so we can avoid doing imports until\n"
     ]
    },
    {
     "data": {
      "text/html": [
       "<div>\n",
       "<style scoped>\n",
       "    .dataframe tbody tr th:only-of-type {\n",
       "        vertical-align: middle;\n",
       "    }\n",
       "\n",
       "    .dataframe tbody tr th {\n",
       "        vertical-align: top;\n",
       "    }\n",
       "\n",
       "    .dataframe thead th {\n",
       "        text-align: right;\n",
       "    }\n",
       "</style>\n",
       "<table border=\"1\" class=\"dataframe\">\n",
       "  <thead>\n",
       "    <tr style=\"text-align: right;\">\n",
       "      <th></th>\n",
       "      <th></th>\n",
       "      <th>duration_seconds</th>\n",
       "      <th>total_sightings</th>\n",
       "    </tr>\n",
       "    <tr>\n",
       "      <th>fips</th>\n",
       "      <th>year</th>\n",
       "      <th></th>\n",
       "      <th></th>\n",
       "    </tr>\n",
       "  </thead>\n",
       "  <tbody>\n",
       "    <tr>\n",
       "      <th rowspan=\"5\" valign=\"top\">-1</th>\n",
       "      <th>1906</th>\n",
       "      <td>10800.0</td>\n",
       "      <td>1</td>\n",
       "    </tr>\n",
       "    <tr>\n",
       "      <th>1916</th>\n",
       "      <td>60.0</td>\n",
       "      <td>1</td>\n",
       "    </tr>\n",
       "    <tr>\n",
       "      <th>1936</th>\n",
       "      <td>1200.0</td>\n",
       "      <td>1</td>\n",
       "    </tr>\n",
       "    <tr>\n",
       "      <th>1943</th>\n",
       "      <td>1510.0</td>\n",
       "      <td>4</td>\n",
       "    </tr>\n",
       "    <tr>\n",
       "      <th>1944</th>\n",
       "      <td>1380.0</td>\n",
       "      <td>3</td>\n",
       "    </tr>\n",
       "  </tbody>\n",
       "</table>\n",
       "</div>"
      ],
      "text/plain": [
       "           duration_seconds  total_sightings\n",
       "fips year                                   \n",
       "-1   1906           10800.0                1\n",
       "     1916              60.0                1\n",
       "     1936            1200.0                1\n",
       "     1943            1510.0                4\n",
       "     1944            1380.0                3"
      ]
     },
     "execution_count": 4,
     "metadata": {},
     "output_type": "execute_result"
    }
   ],
   "source": [
    "#[code for plot] get the intended columns and extract year from the date column\n",
    "basic_info = ufo[['state','date','duration_seconds']]\n",
    "basic_info['year']=pd.DatetimeIndex(basic_info['date']).year\n",
    "basic_data = basic_info[['state','year','duration_seconds']]\n",
    "\n",
    "#[code for plot] transform the state to fips  [code for plot]\n",
    "abbr_to_fits = us.states.mapping('abbr', 'fips')\n",
    "basic_data[\"fips\"] = basic_data[\"state\"].apply(lambda a: int(abbr_to_fits.get(str(a).upper(), -1)))\n",
    "ppdata = basic_data[['fips','year','duration_seconds']]\n",
    "\n",
    "#[code for plot] use the groupby function for fips  [code for plot]\n",
    "duration_data = ppdata.groupby(['fips','year']).sum()\n",
    "sightings_data = ppdata.groupby(['fips','year']).count()\n",
    "plotdata = duration_data\n",
    "plotdata['total_sightings']=sightings_data['duration_seconds']\n",
    "\n",
    "#[code for plot] quickview of the data for plotting\n",
    "plotdata.head(5)"
   ]
  },
  {
   "cell_type": "markdown",
   "metadata": {},
   "source": [
    "## Now it is the function of interval plot for 'duration_seconds'"
   ]
  },
  {
   "cell_type": "code",
   "execution_count": 7,
   "metadata": {
    "collapsed": true
   },
   "outputs": [],
   "source": [
    "def durationplot(fips):\n",
    "## First we define a Figure\n",
    "    testdata=plotdata.loc[fips]\n",
    "    dt_x_fast = LinearScale()\n",
    "    lin_y = LinearScale()\n",
    "\n",
    "    dates_actual = testdata.index.values\n",
    "    prices = testdata.duration_seconds\n",
    "\n",
    "    x_ax = Axis(label='Year', scale=dt_x_fast)\n",
    "    x_ay = Axis(label='Duration_seconds', scale=lin_y, orientation='vertical')\n",
    "    lc = Lines(x=dates_actual, y=prices, scales={'x': dt_x_fast, 'y': lin_y}, colors=['orange'])\n",
    "    \n",
    "    return lc"
   ]
  },
  {
   "cell_type": "markdown",
   "metadata": {},
   "source": [
    "## Now it is the function of interval plot for 'total_sightings'"
   ]
  },
  {
   "cell_type": "code",
   "execution_count": 8,
   "metadata": {
    "collapsed": true
   },
   "outputs": [],
   "source": [
    "def sightings(fips):\n",
    "## First we define a Figure\n",
    "    testdata=plotdata.loc[fips]\n",
    "    dt_x_fast = LinearScale()\n",
    "    lin_y = LinearScale()\n",
    "\n",
    "    dates_actual = testdata.index.values\n",
    "    prices = testdata.total_sightings\n",
    "\n",
    "    x_ax = Axis(label='Year', scale=dt_x_fast)\n",
    "    x_ay = Axis(label='Total_sightings', scale=lin_y, orientation='vertical')\n",
    "    lc = Lines(x=dates_actual, y=prices, scales={'x': dt_x_fast, 'y': lin_y}, colors=['orange'])\n",
    "\n",
    "    return lc"
   ]
  },
  {
   "cell_type": "markdown",
   "metadata": {},
   "source": [
    "## The following are codes for map plot"
   ]
  },
  {
   "cell_type": "code",
   "execution_count": 9,
   "metadata": {
    "collapsed": true
   },
   "outputs": [],
   "source": [
    "#[code for map]\n",
    "duration_seconds = ufo.groupby([\"fips\"])[\"duration_seconds\"].sum()\n",
    "total_sightings = ufo.groupby([\"fips\"])[\"report_date\"].count()\n",
    "#[code for map]\n",
    "df = pd.DataFrame([duration_seconds, total_sightings])\n",
    "df.rename({'report_date': 'total_sightings'}, inplace=True)\n",
    "ufo_vals = df.transpose()\n",
    "ufo_vals[\"Normalized total sightings\"] = [None , 4863300, 741894, 6931071, 2988248, 39250017, 5540545, 3576452, 952065, 681170, 20612439, 10310371, 1428557, 1683140, 12801539, 6633053, 3134693, 2907289, 4436974, 4681666, 1331479, 6016447, 6811779, 9928300, 5519952, 2988726, 6093000, 1042520, 1907116, 2940058, 1334795, 8944469, 2081015, 19745289, 10146788, 757952, 11614373, 3923561, 4093465, 12784227, 1056426, 4961119, 865454, 6651194, 27862596, 3051217, 624594, 8411808, 7288000, 1831102, 5778708, 585501, None]\n",
    "#[code for map]\n",
    "states = cartopy.io.shapereader.natural_earth(resolution='110m', category='cultural',\n",
    "                                    name='admin_1_states_provinces_lakes_shp')\n",
    "reader =cartopy.io.shapereader.Reader(states)\n",
    "all_states = list(reader.records())"
   ]
  },
  {
   "cell_type": "code",
   "execution_count": null,
   "metadata": {
    "collapsed": true
   },
   "outputs": [],
   "source": []
  },
  {
   "cell_type": "code",
   "execution_count": 12,
   "metadata": {
    "scrolled": true
   },
   "outputs": [
    {
     "data": {
      "application/vnd.jupyter.widget-view+json": {
       "model_id": "457e7d14669f4e3c8fc28d062a839e91",
       "version_major": 2,
       "version_minor": 0
      },
      "text/html": [
       "<p>Failed to display Jupyter Widget of type <code>interactive</code>.</p>\n",
       "<p>\n",
       "  If you're reading this message in the Jupyter Notebook or JupyterLab Notebook, it may mean\n",
       "  that the widgets JavaScript is still loading. If this message persists, it\n",
       "  likely means that the widgets JavaScript library is either not installed or\n",
       "  not enabled. See the <a href=\"https://ipywidgets.readthedocs.io/en/stable/user_install.html\">Jupyter\n",
       "  Widgets Documentation</a> for setup instructions.\n",
       "</p>\n",
       "<p>\n",
       "  If you're reading this message in another frontend (for example, a static\n",
       "  rendering on GitHub or <a href=\"https://nbviewer.jupyter.org/\">NBViewer</a>),\n",
       "  it may mean that your frontend doesn't currently support widgets.\n",
       "</p>\n"
      ],
      "text/plain": [
       "interactive(children=(Dropdown(description='field', options=('total_sightings', 'duration_seconds', 'Normalized total sightings'), value='total_sightings'), Output()), _dom_classes=('widget-interact',))"
      ]
     },
     "metadata": {},
     "output_type": "display_data"
    }
   ],
   "source": [
    "@ipywidgets.interact(field = ['total_sightings', 'duration_seconds','Normalized total sightings'] )\n",
    "def make_plot(field):\n",
    "    for fips in ufo_vals:\n",
    "        n = np.log10(ufo_vals.loc[:, field])\n",
    "        norm = (ufo_vals['total_sightings'])/(ufo_vals['Normalized total sightings'])\n",
    "    def_tt = Tooltip(fields=['name', 'color'], labels=['State', field],formats = [])    \n",
    "    map_styles = {'scales': {'projection': bqplot.AlbersUSA(),\n",
    "                      'color': bqplot.ColorScale(colors=[\"red\", \"blue\"])},\n",
    "              'color': n.to_dict(),\n",
    "                 'interactions':{'click': 'select', 'hover': 'tooltip'}}\n",
    "    states_map = bqplot.Map(map_data=bqplot.topo_load('map_data/USStatesMap.json'), tooltip=def_tt,\n",
    "        **map_styles) \n",
    "    states_map.interactions = {'click': 'select', 'hover': 'tooltip'}\n",
    "    map_fig = bqplot.Figure(marks=[states_map], title='USA',fig_margin={'top':0,'bottom':20,'left':10,'right':10})\n",
    "    \n",
    "    if field == 'total_sightings':\n",
    "        testdata=plotdata.loc[1]\n",
    "        print('Please select a state, the default state is Alabama.')\n",
    "        dt_x_fast = LinearScale()\n",
    "        lin_y = LinearScale()\n",
    "\n",
    "        dates_actual = testdata.index.values\n",
    "        prices = testdata.total_sightings\n",
    "\n",
    "        x_ax = Axis(label='Year', scale=dt_x_fast)\n",
    "        x_ay = Axis(label='Total_sightings', scale=lin_y, orientation='vertical')\n",
    "        lc = Lines(x=dates_actual, y=prices, scales={'x': dt_x_fast, 'y': lin_y}, colors=['orange'])\n",
    "        intsel_fast = FastIntervalSelector(scale=dt_x_fast, marks=[lc])\n",
    "        md = {}\n",
    "        def fast_interval_change_callback(change):\n",
    "            ind = pd.to_datetime(change.new)\n",
    "            ind = change.new\n",
    "            tot = testdata.loc[ind[0]:ind[1]][\"total_sightings\"].sum()\n",
    "            db_fast.value = 'The selected period is ' + str(change.new).split(' ')[0][1:5] + ' to '+ str(change.new).split(' ')[1][0:4] + ' total: ' + str(tot)\n",
    "        intsel_fast.observe(fast_interval_change_callback, names=['selected'])\n",
    "        db_fast = HTML()\n",
    "        db_fast.value = 'The selected period is ' + str(intsel_fast.selected)\n",
    "\n",
    "        fig_fast_intsel = Figure(marks=[lc], axes=[x_ax, x_ay], title='Total_sightings of selected state',\n",
    "                         interaction=intsel_fast,fig_margin={'top':0,'bottom':20,'left':50,'right':180}) \n",
    "        #This is where we assign the interaction to this particular Figure\n",
    "\n",
    "        def change_selected(event):\n",
    "            try: \n",
    "                lc.y=sightings(event.new[-1]).y\n",
    "                \n",
    "            except:\n",
    "                t=1+1\n",
    "        states_map.observe(change_selected, \"selected\")\n",
    "        display(HBox([map_fig,VBox([db_fast, fig_fast_intsel])]))\n",
    "    \n",
    "    elif field == 'duration_seconds':\n",
    "        testdata=plotdata.loc[1]\n",
    "        print('Please select a state, the default state is Alabama.')\n",
    "        dt_x_fast = LinearScale()\n",
    "        lin_y = LinearScale()\n",
    "\n",
    "        dates_actual = testdata.index.values\n",
    "        prices = testdata.duration_seconds\n",
    "\n",
    "        x_ax = Axis(label='Year', scale=dt_x_fast)\n",
    "        x_ay = Axis(label='Duration_seconds', scale=lin_y, orientation='vertical')\n",
    "        lc = Lines(x=dates_actual, y=prices, scales={'x': dt_x_fast, 'y': lin_y}, colors=['orange'])\n",
    "        intsel_fast = FastIntervalSelector(scale=dt_x_fast, marks=[lc])\n",
    "        md = {}\n",
    "        def fast_interval_change_callback(change):\n",
    "            ind = pd.to_datetime(change.new)\n",
    "            ind = change.new\n",
    "            tot = testdata.loc[ind[0]:ind[1]][\"duration_seconds\"].sum()\n",
    "            db_fast.value = 'The selected period is ' + str(change.new).split(' ')[0][1:5] + ' to '+ str(change.new).split(' ')[1][0:4] + ' total: ' + str(tot)\n",
    "        intsel_fast.observe(fast_interval_change_callback, names=['selected'])\n",
    "        db_fast = HTML()\n",
    "        db_fast.value = 'The selected period is ' + str(intsel_fast.selected)\n",
    "\n",
    "        fig_fast_intsel = Figure(marks=[lc], axes=[x_ax, x_ay], title='Duration_Seconds of selected state',\n",
    "                         interaction=intsel_fast,fig_margin={'top':10,'bottom':20,'left':50,'right':180}) \n",
    "        #This is where we assign the interaction to this particular Figure\n",
    "        \n",
    "\n",
    "        def change_selected(event):\n",
    "            try:\n",
    "                lc.y=durationplot(event.new[-1]).y\n",
    "            except:\n",
    "                t=1+1\n",
    "        states_map.observe(change_selected, \"selected\")\n",
    "        display(HBox([map_fig,VBox([db_fast, fig_fast_intsel])]))\n",
    "        \n",
    "    elif field == 'Normalized total sightings':\n",
    "        testdata=plotdata.loc[1]\n",
    "        print('Please select a state, the default state is Alabama.')\n",
    "        dt_x_fast = LinearScale()\n",
    "        lin_y = LinearScale()\n",
    "\n",
    "        dates_actual = testdata.index.values\n",
    "        prices = testdata.total_sightings\n",
    "\n",
    "        x_ax = Axis(label='Year', scale=dt_x_fast)\n",
    "        x_ay = Axis(label='Total_sightings', scale=lin_y, orientation='vertical')\n",
    "        lc = Lines(x=dates_actual, y=prices, scales={'x': dt_x_fast, 'y': lin_y}, colors=['orange'])\n",
    "        intsel_fast = FastIntervalSelector(scale=dt_x_fast, marks=[lc])\n",
    "        md = {}\n",
    "        def fast_interval_change_callback(change):\n",
    "            ind = pd.to_datetime(change.new)\n",
    "            ind = change.new\n",
    "            tot = testdata.loc[ind[0]:ind[1]][\"total_sightings\"].sum()\n",
    "            db_fast.value = 'The selected period is ' + str(change.new).split(' ')[0][1:5] + ' to '+ str(change.new).split(' ')[1][0:4] + ' total: ' + str(tot)            \n",
    "        intsel_fast.observe(fast_interval_change_callback, names=['selected'])\n",
    "        db_fast = HTML()\n",
    "        db_fast.value = 'The selected period is ' + str(intsel_fast.selected)\n",
    "        fig_fast_intsel = Figure(marks=[lc], axes=[x_ax, x_ay], title='Total_sightings of selected state',\n",
    "                         interaction=intsel_fast,fig_margin={'top':0,'bottom':20,'left':45,'right':180}) \n",
    "        #This is where we assign the interaction to this particular Figure\n",
    "        def change_selected(event):\n",
    "            try:\n",
    "                lc.y=sightings(event.new[-1]).y                \n",
    "            except:\n",
    "                t = 1+1\n",
    "        states_map.observe(change_selected, \"selected\")\n",
    "        display(HBox([map_fig,VBox([db_fast, fig_fast_intsel])]))\n"
   ]
  },
  {
   "cell_type": "code",
   "execution_count": null,
   "metadata": {
    "collapsed": true
   },
   "outputs": [],
   "source": []
  },
  {
   "cell_type": "code",
   "execution_count": null,
   "metadata": {
    "collapsed": true
   },
   "outputs": [],
   "source": []
  }
 ],
 "metadata": {
  "kernelspec": {
   "display_name": "Python 3",
   "language": "python",
   "name": "python3"
  },
  "language_info": {
   "codemirror_mode": {
    "name": "ipython",
    "version": 3
   },
   "file_extension": ".py",
   "mimetype": "text/x-python",
   "name": "python",
   "nbconvert_exporter": "python",
   "pygments_lexer": "ipython3",
   "version": "3.6.3"
  }
 },
 "nbformat": 4,
 "nbformat_minor": 2
}
